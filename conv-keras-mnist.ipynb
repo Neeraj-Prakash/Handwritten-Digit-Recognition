{
 "cells": [
  {
   "cell_type": "code",
   "execution_count": 1,
   "metadata": {},
   "outputs": [
    {
     "name": "stderr",
     "output_type": "stream",
     "text": [
      "C:\\Users\\Neeraj\\AppData\\Roaming\\Python\\Python36\\site-packages\\tensorflow\\python\\framework\\dtypes.py:519: FutureWarning: Passing (type, 1) or '1type' as a synonym of type is deprecated; in a future version of numpy, it will be understood as (type, (1,)) / '(1,)type'.\n",
      "  _np_qint8 = np.dtype([(\"qint8\", np.int8, 1)])\n",
      "C:\\Users\\Neeraj\\AppData\\Roaming\\Python\\Python36\\site-packages\\tensorflow\\python\\framework\\dtypes.py:520: FutureWarning: Passing (type, 1) or '1type' as a synonym of type is deprecated; in a future version of numpy, it will be understood as (type, (1,)) / '(1,)type'.\n",
      "  _np_quint8 = np.dtype([(\"quint8\", np.uint8, 1)])\n",
      "C:\\Users\\Neeraj\\AppData\\Roaming\\Python\\Python36\\site-packages\\tensorflow\\python\\framework\\dtypes.py:521: FutureWarning: Passing (type, 1) or '1type' as a synonym of type is deprecated; in a future version of numpy, it will be understood as (type, (1,)) / '(1,)type'.\n",
      "  _np_qint16 = np.dtype([(\"qint16\", np.int16, 1)])\n",
      "C:\\Users\\Neeraj\\AppData\\Roaming\\Python\\Python36\\site-packages\\tensorflow\\python\\framework\\dtypes.py:522: FutureWarning: Passing (type, 1) or '1type' as a synonym of type is deprecated; in a future version of numpy, it will be understood as (type, (1,)) / '(1,)type'.\n",
      "  _np_quint16 = np.dtype([(\"quint16\", np.uint16, 1)])\n",
      "C:\\Users\\Neeraj\\AppData\\Roaming\\Python\\Python36\\site-packages\\tensorflow\\python\\framework\\dtypes.py:523: FutureWarning: Passing (type, 1) or '1type' as a synonym of type is deprecated; in a future version of numpy, it will be understood as (type, (1,)) / '(1,)type'.\n",
      "  _np_qint32 = np.dtype([(\"qint32\", np.int32, 1)])\n",
      "C:\\Users\\Neeraj\\AppData\\Roaming\\Python\\Python36\\site-packages\\tensorflow\\python\\framework\\dtypes.py:528: FutureWarning: Passing (type, 1) or '1type' as a synonym of type is deprecated; in a future version of numpy, it will be understood as (type, (1,)) / '(1,)type'.\n",
      "  np_resource = np.dtype([(\"resource\", np.ubyte, 1)])\n",
      "Using TensorFlow backend.\n"
     ]
    }
   ],
   "source": [
    "#importing the pacakges and modules required for the program\n",
    "import tensorflow as tf\n",
    "from keras.models import Sequential\n",
    "from keras.layers import Dense, Dropout, Activation, Flatten, Conv2D, MaxPooling2D\n",
    "from keras.utils import normalize, to_categorical\n",
    "\n",
    "from keras.datasets import mnist"
   ]
  },
  {
   "cell_type": "code",
   "execution_count": 2,
   "metadata": {},
   "outputs": [],
   "source": [
    "#Loading the MNIST dataset and pre-processing for the model\n",
    "\n",
    "(x_train, y_train) , (x_test, y_test) = mnist.load_data()\n",
    "\n",
    "x_train = x_train.reshape(-1,28,28,1)\n",
    "x_test = x_test.reshape(-1,28,28,1)\n",
    "\n",
    "y_train = to_categorical(y_train, 10)\n",
    "y_test = to_categorical(y_test, 10)\n",
    "\n",
    "x_train = normalize(x_train,axis = 1)\n",
    "x_test = normalize(x_test,axis = 1)"
   ]
  },
  {
   "cell_type": "code",
   "execution_count": 19,
   "metadata": {},
   "outputs": [],
   "source": [
    "#Defining the Model architecture and parameters\n",
    "\n",
    "model = Sequential()\n",
    "\n",
    "model.add(Conv2D(8, (3,3), input_shape = x_train.shape[1:]))\n",
    "model.add(Activation(\"relu\"))\n",
    "model.add(MaxPooling2D(pool_size=(2,2)))\n",
    "model.add(Dropout(0.05))\n",
    "\n",
    "model.add(Conv2D(32, (3,3)))\n",
    "model.add(Activation(\"relu\"))\n",
    "model.add(Dropout(0.1))\n",
    "\n",
    "model.add(Flatten())\n",
    "model.add(Dense(32))\n",
    "model.add(Activation(\"relu\"))\n",
    "\n",
    "model.add(Dense(10))\n",
    "model.add(Activation(\"softmax\"))\n",
    "\n",
    "#Specifying the metrics for the model\n",
    "model.compile(loss='categorical_crossentropy',\n",
    "             optimizer='adam',\n",
    "             metrics=['accuracy'])\n"
   ]
  },
  {
   "cell_type": "code",
   "execution_count": 20,
   "metadata": {},
   "outputs": [
    {
     "name": "stdout",
     "output_type": "stream",
     "text": [
      "_________________________________________________________________\n",
      "Layer (type)                 Output Shape              Param #   \n",
      "=================================================================\n",
      "conv2d_12 (Conv2D)           (None, 26, 26, 8)         80        \n",
      "_________________________________________________________________\n",
      "activation_20 (Activation)   (None, 26, 26, 8)         0         \n",
      "_________________________________________________________________\n",
      "max_pooling2d_7 (MaxPooling2 (None, 13, 13, 8)         0         \n",
      "_________________________________________________________________\n",
      "dropout_6 (Dropout)          (None, 13, 13, 8)         0         \n",
      "_________________________________________________________________\n",
      "conv2d_13 (Conv2D)           (None, 11, 11, 32)        2336      \n",
      "_________________________________________________________________\n",
      "activation_21 (Activation)   (None, 11, 11, 32)        0         \n",
      "_________________________________________________________________\n",
      "dropout_7 (Dropout)          (None, 11, 11, 32)        0         \n",
      "_________________________________________________________________\n",
      "flatten_5 (Flatten)          (None, 3872)              0         \n",
      "_________________________________________________________________\n",
      "dense_9 (Dense)              (None, 32)                123936    \n",
      "_________________________________________________________________\n",
      "activation_22 (Activation)   (None, 32)                0         \n",
      "_________________________________________________________________\n",
      "dense_10 (Dense)             (None, 10)                330       \n",
      "_________________________________________________________________\n",
      "activation_23 (Activation)   (None, 10)                0         \n",
      "=================================================================\n",
      "Total params: 126,682\n",
      "Trainable params: 126,682\n",
      "Non-trainable params: 0\n",
      "_________________________________________________________________\n"
     ]
    }
   ],
   "source": [
    "model.summary()"
   ]
  },
  {
   "cell_type": "code",
   "execution_count": 21,
   "metadata": {},
   "outputs": [
    {
     "name": "stdout",
     "output_type": "stream",
     "text": [
      "Train on 54000 samples, validate on 6000 samples\n",
      "Epoch 1/10\n",
      "54000/54000 [==============================] - 19s 349us/step - loss: 0.2351 - acc: 0.9290 - val_loss: 0.0974 - val_acc: 0.9715\n",
      "Epoch 2/10\n",
      "54000/54000 [==============================] - 19s 356us/step - loss: 0.0963 - acc: 0.9696 - val_loss: 0.0709 - val_acc: 0.9788\n",
      "Epoch 3/10\n",
      "54000/54000 [==============================] - 20s 375us/step - loss: 0.0721 - acc: 0.9768 - val_loss: 0.0646 - val_acc: 0.9803\n",
      "Epoch 4/10\n",
      "54000/54000 [==============================] - 20s 373us/step - loss: 0.0577 - acc: 0.9815 - val_loss: 0.0509 - val_acc: 0.9853\n",
      "Epoch 5/10\n",
      "54000/54000 [==============================] - 20s 373us/step - loss: 0.0457 - acc: 0.9854 - val_loss: 0.0464 - val_acc: 0.9862\n",
      "Epoch 6/10\n",
      "54000/54000 [==============================] - 20s 374us/step - loss: 0.0365 - acc: 0.9875 - val_loss: 0.0445 - val_acc: 0.9878\n",
      "Epoch 7/10\n",
      "54000/54000 [==============================] - 20s 374us/step - loss: 0.0303 - acc: 0.9899 - val_loss: 0.0515 - val_acc: 0.9857\n",
      "Epoch 8/10\n",
      "54000/54000 [==============================] - 20s 373us/step - loss: 0.0259 - acc: 0.9914 - val_loss: 0.0541 - val_acc: 0.9838\n",
      "Epoch 9/10\n",
      "54000/54000 [==============================] - 20s 373us/step - loss: 0.0225 - acc: 0.9926 - val_loss: 0.0514 - val_acc: 0.9872\n",
      "Epoch 10/10\n",
      "54000/54000 [==============================] - 20s 373us/step - loss: 0.0202 - acc: 0.9930 - val_loss: 0.0456 - val_acc: 0.9885\n"
     ]
    },
    {
     "data": {
      "text/plain": [
       "<keras.callbacks.History at 0x224d1dcbf60>"
      ]
     },
     "execution_count": 21,
     "metadata": {},
     "output_type": "execute_result"
    }
   ],
   "source": [
    "#Training the model\n",
    "model.fit(x_train,y_train,batch_size=32,epochs=10,validation_split=0.1)"
   ]
  },
  {
   "cell_type": "code",
   "execution_count": 22,
   "metadata": {},
   "outputs": [
    {
     "name": "stdout",
     "output_type": "stream",
     "text": [
      "10000/10000 [==============================] - 1s 111us/step\n"
     ]
    },
    {
     "data": {
      "text/plain": [
       "[0.04920624656850705, 0.9857]"
      ]
     },
     "execution_count": 22,
     "metadata": {},
     "output_type": "execute_result"
    }
   ],
   "source": [
    "#Evaluating the model in the Test Set\n",
    "model.evaluate(x_test,y_test)"
   ]
  },
  {
   "cell_type": "code",
   "execution_count": 32,
   "metadata": {},
   "outputs": [
    {
     "data": {
      "image/png": "[encoded data removed]",
      "text/plain": [
       "<Figure size 432x288 with 1 Axes>"
      ]
     },
     "metadata": {
      "needs_background": "light"
     },
     "output_type": "display_data"
    }
   ],
   "source": [
    "#Visualization using Matplotlib\n",
    "\n",
    "import matplotlib.pyplot as plt\n",
    "plt.imshow(x_test[0].reshape(28,28) , cmap = plt.cm.binary)\n",
    "plt.show()"
   ]
  },
  {
   "cell_type": "code",
   "execution_count": 29,
   "metadata": {},
   "outputs": [],
   "source": [
    "#Predicting from the model\n",
    "\n",
    "pred = model.predict(x_test)"
   ]
  },
  {
   "cell_type": "code",
   "execution_count": 30,
   "metadata": {},
   "outputs": [
    {
     "data": {
      "text/plain": [
       "array([[4.58565269e-10, 7.42477357e-10, 1.10781365e-07, ...,\n",
       "        9.99999762e-01, 2.12917350e-10, 4.17646540e-09],\n",
       "       [1.98193746e-08, 1.02313311e-06, 9.99998808e-01, ...,\n",
       "        7.04450560e-12, 9.88005144e-09, 1.25932154e-10],\n",
       "       [4.91667904e-13, 1.00000000e+00, 1.43342685e-10, ...,\n",
       "        4.37880265e-09, 2.21105356e-10, 1.15703957e-11],\n",
       "       ...,\n",
       "       [1.43534750e-12, 2.54324675e-07, 2.26735575e-11, ...,\n",
       "        4.11838414e-07, 1.25938523e-05, 9.25454003e-07],\n",
       "       [3.64573953e-12, 3.37958897e-11, 1.10110125e-08, ...,\n",
       "        3.37472389e-12, 3.56909179e-04, 4.15318652e-14],\n",
       "       [2.16721764e-06, 2.46374213e-07, 5.07449442e-07, ...,\n",
       "        1.48167676e-11, 1.16767760e-08, 2.81063883e-08]], dtype=float32)"
      ]
     },
     "execution_count": 30,
     "metadata": {},
     "output_type": "execute_result"
    }
   ],
   "source": [
    "pred"
   ]
  },
  {
   "cell_type": "code",
   "execution_count": 33,
   "metadata": {},
   "outputs": [
    {
     "name": "stdout",
     "output_type": "stream",
     "text": [
      "7\n"
     ]
    }
   ],
   "source": [
    "import numpy as np\n",
    "print(np.argmax(pred[0]))"
   ]
  },
  {
   "cell_type": "code",
   "execution_count": null,
   "metadata": {},
   "outputs": [],
   "source": []
  }
 ],
 "metadata": {
  "kernelspec": {
   "display_name": "Python 3",
   "language": "python",
   "name": "python3"
  },
  "language_info": {
   "codemirror_mode": {
    "name": "ipython",
    "version": 3
   },
   "file_extension": ".py",
   "mimetype": "text/x-python",
   "name": "python",
   "nbconvert_exporter": "python",
   "pygments_lexer": "ipython3",
   "version": "3.6.6"
  }
 },
 "nbformat": 4,
 "nbformat_minor": 2
}
